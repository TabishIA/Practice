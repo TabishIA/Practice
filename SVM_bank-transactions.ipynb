{
 "cells": [
  {
   "cell_type": "code",
   "execution_count": 1,
   "id": "c80b555c",
   "metadata": {},
   "outputs": [
    {
     "data": {
      "text/plain": [
       "'\\nClassification: Support Vector Machine\\nDataset : bank_transactions_data_2.csv\\nImplement Support Vector Machine for a dataset and compare the accuracy by applying the following kernel functions: i. Linear ii. Polynomial \\n'"
      ]
     },
     "execution_count": 1,
     "metadata": {},
     "output_type": "execute_result"
    }
   ],
   "source": [
    "'''\n",
    "Classification: Support Vector Machine\n",
    "Dataset : bank_transactions_data_2.csv\n",
    "Implement Support Vector Machine for a dataset and compare the accuracy by applying the \n",
    "following kernel functions: i. Linear ii. Polynomial \n",
    "'''"
   ]
  },
  {
   "cell_type": "code",
   "execution_count": 24,
   "id": "e9482400",
   "metadata": {},
   "outputs": [],
   "source": [
    "import pandas as pd\n",
    "from sklearn.metrics import accuracy_score, confusion_matrix, classification_report\n",
    "from sklearn.model_selection import train_test_split\n",
    "from sklearn.preprocessing import LabelEncoder, StandardScaler\n",
    "from sklearn.svm import SVC\n",
    "import matplotlib.pyplot as plt\n",
    "import seaborn as sns\n",
    "import numpy as np"
   ]
  },
  {
   "cell_type": "code",
   "execution_count": 3,
   "id": "51dd3286",
   "metadata": {},
   "outputs": [
    {
     "data": {
      "text/html": [
       "<div>\n",
       "<style scoped>\n",
       "    .dataframe tbody tr th:only-of-type {\n",
       "        vertical-align: middle;\n",
       "    }\n",
       "\n",
       "    .dataframe tbody tr th {\n",
       "        vertical-align: top;\n",
       "    }\n",
       "\n",
       "    .dataframe thead th {\n",
       "        text-align: right;\n",
       "    }\n",
       "</style>\n",
       "<table border=\"1\" class=\"dataframe\">\n",
       "  <thead>\n",
       "    <tr style=\"text-align: right;\">\n",
       "      <th></th>\n",
       "      <th>TransactionID</th>\n",
       "      <th>AccountID</th>\n",
       "      <th>TransactionAmount</th>\n",
       "      <th>TransactionDate</th>\n",
       "      <th>TransactionType</th>\n",
       "      <th>Location</th>\n",
       "      <th>DeviceID</th>\n",
       "      <th>IP Address</th>\n",
       "      <th>MerchantID</th>\n",
       "      <th>Channel</th>\n",
       "      <th>CustomerAge</th>\n",
       "      <th>CustomerOccupation</th>\n",
       "      <th>TransactionDuration</th>\n",
       "      <th>LoginAttempts</th>\n",
       "      <th>AccountBalance</th>\n",
       "      <th>PreviousTransactionDate</th>\n",
       "    </tr>\n",
       "  </thead>\n",
       "  <tbody>\n",
       "    <tr>\n",
       "      <th>0</th>\n",
       "      <td>TX000001</td>\n",
       "      <td>AC00128</td>\n",
       "      <td>14.09</td>\n",
       "      <td>2023-04-11 16:29:14</td>\n",
       "      <td>Debit</td>\n",
       "      <td>San Diego</td>\n",
       "      <td>D000380</td>\n",
       "      <td>162.198.218.92</td>\n",
       "      <td>M015</td>\n",
       "      <td>ATM</td>\n",
       "      <td>70</td>\n",
       "      <td>Doctor</td>\n",
       "      <td>81</td>\n",
       "      <td>1</td>\n",
       "      <td>5112.21</td>\n",
       "      <td>2024-11-04 08:08:08</td>\n",
       "    </tr>\n",
       "    <tr>\n",
       "      <th>1</th>\n",
       "      <td>TX000002</td>\n",
       "      <td>AC00455</td>\n",
       "      <td>376.24</td>\n",
       "      <td>2023-06-27 16:44:19</td>\n",
       "      <td>Debit</td>\n",
       "      <td>Houston</td>\n",
       "      <td>D000051</td>\n",
       "      <td>13.149.61.4</td>\n",
       "      <td>M052</td>\n",
       "      <td>ATM</td>\n",
       "      <td>68</td>\n",
       "      <td>Doctor</td>\n",
       "      <td>141</td>\n",
       "      <td>1</td>\n",
       "      <td>13758.91</td>\n",
       "      <td>2024-11-04 08:09:35</td>\n",
       "    </tr>\n",
       "    <tr>\n",
       "      <th>2</th>\n",
       "      <td>TX000003</td>\n",
       "      <td>AC00019</td>\n",
       "      <td>126.29</td>\n",
       "      <td>2023-07-10 18:16:08</td>\n",
       "      <td>Debit</td>\n",
       "      <td>Mesa</td>\n",
       "      <td>D000235</td>\n",
       "      <td>215.97.143.157</td>\n",
       "      <td>M009</td>\n",
       "      <td>Online</td>\n",
       "      <td>19</td>\n",
       "      <td>Student</td>\n",
       "      <td>56</td>\n",
       "      <td>1</td>\n",
       "      <td>1122.35</td>\n",
       "      <td>2024-11-04 08:07:04</td>\n",
       "    </tr>\n",
       "    <tr>\n",
       "      <th>3</th>\n",
       "      <td>TX000004</td>\n",
       "      <td>AC00070</td>\n",
       "      <td>184.50</td>\n",
       "      <td>2023-05-05 16:32:11</td>\n",
       "      <td>Debit</td>\n",
       "      <td>Raleigh</td>\n",
       "      <td>D000187</td>\n",
       "      <td>200.13.225.150</td>\n",
       "      <td>M002</td>\n",
       "      <td>Online</td>\n",
       "      <td>26</td>\n",
       "      <td>Student</td>\n",
       "      <td>25</td>\n",
       "      <td>1</td>\n",
       "      <td>8569.06</td>\n",
       "      <td>2024-11-04 08:09:06</td>\n",
       "    </tr>\n",
       "    <tr>\n",
       "      <th>4</th>\n",
       "      <td>TX000005</td>\n",
       "      <td>AC00411</td>\n",
       "      <td>13.45</td>\n",
       "      <td>2023-10-16 17:51:24</td>\n",
       "      <td>Credit</td>\n",
       "      <td>Atlanta</td>\n",
       "      <td>D000308</td>\n",
       "      <td>65.164.3.100</td>\n",
       "      <td>M091</td>\n",
       "      <td>Online</td>\n",
       "      <td>26</td>\n",
       "      <td>Student</td>\n",
       "      <td>198</td>\n",
       "      <td>1</td>\n",
       "      <td>7429.40</td>\n",
       "      <td>2024-11-04 08:06:39</td>\n",
       "    </tr>\n",
       "  </tbody>\n",
       "</table>\n",
       "</div>"
      ],
      "text/plain": [
       "  TransactionID AccountID  TransactionAmount      TransactionDate  \\\n",
       "0      TX000001   AC00128              14.09  2023-04-11 16:29:14   \n",
       "1      TX000002   AC00455             376.24  2023-06-27 16:44:19   \n",
       "2      TX000003   AC00019             126.29  2023-07-10 18:16:08   \n",
       "3      TX000004   AC00070             184.50  2023-05-05 16:32:11   \n",
       "4      TX000005   AC00411              13.45  2023-10-16 17:51:24   \n",
       "\n",
       "  TransactionType   Location DeviceID      IP Address MerchantID Channel  \\\n",
       "0           Debit  San Diego  D000380  162.198.218.92       M015     ATM   \n",
       "1           Debit    Houston  D000051     13.149.61.4       M052     ATM   \n",
       "2           Debit       Mesa  D000235  215.97.143.157       M009  Online   \n",
       "3           Debit    Raleigh  D000187  200.13.225.150       M002  Online   \n",
       "4          Credit    Atlanta  D000308    65.164.3.100       M091  Online   \n",
       "\n",
       "   CustomerAge CustomerOccupation  TransactionDuration  LoginAttempts  \\\n",
       "0           70             Doctor                   81              1   \n",
       "1           68             Doctor                  141              1   \n",
       "2           19            Student                   56              1   \n",
       "3           26            Student                   25              1   \n",
       "4           26            Student                  198              1   \n",
       "\n",
       "   AccountBalance PreviousTransactionDate  \n",
       "0         5112.21     2024-11-04 08:08:08  \n",
       "1        13758.91     2024-11-04 08:09:35  \n",
       "2         1122.35     2024-11-04 08:07:04  \n",
       "3         8569.06     2024-11-04 08:09:06  \n",
       "4         7429.40     2024-11-04 08:06:39  "
      ]
     },
     "execution_count": 3,
     "metadata": {},
     "output_type": "execute_result"
    }
   ],
   "source": [
    "data = pd.read_csv(r'LP-1_Dataset\\SVM\\bank_transactions_data_2.csv')\n",
    "\n",
    "data.head()"
   ]
  },
  {
   "cell_type": "code",
   "execution_count": 8,
   "id": "4a8091fc",
   "metadata": {},
   "outputs": [],
   "source": [
    "# encode categorical columns\n",
    "\n",
    "label_encoders = {}\n",
    "categorical_cols = ['TransactionType', 'Location', 'Channel', 'CustomerOccupation']\n",
    "for col in categorical_cols:\n",
    "    le = LabelEncoder()\n",
    "    data[col] = le.fit_transform(data[col])\n",
    "    label_encoders[col] = le"
   ]
  },
  {
   "cell_type": "code",
   "execution_count": 9,
   "id": "3d415eda",
   "metadata": {},
   "outputs": [],
   "source": [
    "# selecting relevant features\n",
    "X = data[['TransactionAmount', 'CustomerAge', 'TransactionDuration', 'LoginAttempts', 'AccountBalance']]\n",
    "y = data['TransactionType']"
   ]
  },
  {
   "cell_type": "code",
   "execution_count": 11,
   "id": "c89fa798",
   "metadata": {},
   "outputs": [],
   "source": [
    "# standardize numerical features \n",
    "scaler = StandardScaler()\n",
    "X = scaler.fit_transform(X)"
   ]
  },
  {
   "cell_type": "code",
   "execution_count": 12,
   "id": "6013e916",
   "metadata": {},
   "outputs": [],
   "source": [
    "# split into train-test\n",
    "X_train, X_test, y_train, y_test = train_test_split(X, y, test_size=0.3, random_state=42)"
   ]
  },
  {
   "cell_type": "code",
   "execution_count": 15,
   "id": "996009be",
   "metadata": {},
   "outputs": [],
   "source": [
    "# train SVM with linear kernel\n",
    "svm_linear = SVC(kernel='linear')\n",
    "svm_linear.fit(X_train, y_train)\n",
    "y_pred_linear = svm_linear.predict(X_test)"
   ]
  },
  {
   "cell_type": "code",
   "execution_count": 16,
   "id": "846e6c64",
   "metadata": {},
   "outputs": [],
   "source": [
    "# train SVM with polynomial kernel\n",
    "svm_poly = SVC(kernel='poly', degree=3)\n",
    "svm_poly.fit(X_train, y_train)\n",
    "y_pred_poly = svm_poly.predict(X_test)"
   ]
  },
  {
   "cell_type": "code",
   "execution_count": 21,
   "id": "d68f1a1a",
   "metadata": {},
   "outputs": [
    {
     "name": "stdout",
     "output_type": "stream",
     "text": [
      "Linear Kernel Evaluation:\n",
      "Kernel Accuracy:  0.7811671087533156\n",
      "Confusion Matrix:\n",
      " [[  0 165]\n",
      " [  0 589]]\n",
      "Classification Report:\n",
      "               precision    recall  f1-score   support\n",
      "\n",
      "           0       0.00      0.00      0.00       165\n",
      "           1       0.78      1.00      0.88       589\n",
      "\n",
      "    accuracy                           0.78       754\n",
      "   macro avg       0.39      0.50      0.44       754\n",
      "weighted avg       0.61      0.78      0.69       754\n",
      "\n"
     ]
    },
    {
     "name": "stderr",
     "output_type": "stream",
     "text": [
      "C:\\Users\\acer\\anaconda3\\lib\\site-packages\\sklearn\\metrics\\_classification.py:1531: UndefinedMetricWarning: Precision is ill-defined and being set to 0.0 in labels with no predicted samples. Use `zero_division` parameter to control this behavior.\n",
      "  _warn_prf(average, modifier, f\"{metric.capitalize()} is\", len(result))\n",
      "C:\\Users\\acer\\anaconda3\\lib\\site-packages\\sklearn\\metrics\\_classification.py:1531: UndefinedMetricWarning: Precision is ill-defined and being set to 0.0 in labels with no predicted samples. Use `zero_division` parameter to control this behavior.\n",
      "  _warn_prf(average, modifier, f\"{metric.capitalize()} is\", len(result))\n",
      "C:\\Users\\acer\\anaconda3\\lib\\site-packages\\sklearn\\metrics\\_classification.py:1531: UndefinedMetricWarning: Precision is ill-defined and being set to 0.0 in labels with no predicted samples. Use `zero_division` parameter to control this behavior.\n",
      "  _warn_prf(average, modifier, f\"{metric.capitalize()} is\", len(result))\n"
     ]
    }
   ],
   "source": [
    "# Evaluate and compare models\n",
    "print(\"Linear Kernel Evaluation:\")\n",
    "print(\"Kernel Accuracy: \", accuracy_score(y_test, y_pred_linear))\n",
    "print(\"Confusion Matrix:\\n\", confusion_matrix(y_test, y_pred_linear))\n",
    "print(\"Classification Report:\\n\", classification_report(y_test, y_pred_linear))"
   ]
  },
  {
   "cell_type": "code",
   "execution_count": 22,
   "id": "148085fa",
   "metadata": {},
   "outputs": [
    {
     "name": "stdout",
     "output_type": "stream",
     "text": [
      "Polynomial Kernel Evaluation:\n",
      "Kernel Accuracy:  0.7811671087533156\n",
      "Confusion Matrix:\n",
      " [[  0 165]\n",
      " [  0 589]]\n",
      "Classification Report:\n",
      "               precision    recall  f1-score   support\n",
      "\n",
      "           0       0.00      0.00      0.00       165\n",
      "           1       0.78      1.00      0.88       589\n",
      "\n",
      "    accuracy                           0.78       754\n",
      "   macro avg       0.39      0.50      0.44       754\n",
      "weighted avg       0.61      0.78      0.69       754\n",
      "\n"
     ]
    },
    {
     "name": "stderr",
     "output_type": "stream",
     "text": [
      "C:\\Users\\acer\\anaconda3\\lib\\site-packages\\sklearn\\metrics\\_classification.py:1531: UndefinedMetricWarning: Precision is ill-defined and being set to 0.0 in labels with no predicted samples. Use `zero_division` parameter to control this behavior.\n",
      "  _warn_prf(average, modifier, f\"{metric.capitalize()} is\", len(result))\n",
      "C:\\Users\\acer\\anaconda3\\lib\\site-packages\\sklearn\\metrics\\_classification.py:1531: UndefinedMetricWarning: Precision is ill-defined and being set to 0.0 in labels with no predicted samples. Use `zero_division` parameter to control this behavior.\n",
      "  _warn_prf(average, modifier, f\"{metric.capitalize()} is\", len(result))\n",
      "C:\\Users\\acer\\anaconda3\\lib\\site-packages\\sklearn\\metrics\\_classification.py:1531: UndefinedMetricWarning: Precision is ill-defined and being set to 0.0 in labels with no predicted samples. Use `zero_division` parameter to control this behavior.\n",
      "  _warn_prf(average, modifier, f\"{metric.capitalize()} is\", len(result))\n"
     ]
    }
   ],
   "source": [
    "# Evaluate and compare models\n",
    "print(\"Polynomial Kernel Evaluation:\")\n",
    "print(\"Kernel Accuracy: \", accuracy_score(y_test, y_pred_poly))\n",
    "print(\"Confusion Matrix:\\n\", confusion_matrix(y_test, y_pred_poly))\n",
    "print(\"Classification Report:\\n\", classification_report(y_test, y_pred_poly))"
   ]
  },
  {
   "cell_type": "code",
   "execution_count": 27,
   "id": "bd61e24b",
   "metadata": {},
   "outputs": [
    {
     "data": {
      "image/png": "[encoded data removed]",
      "text/plain": [
       "<Figure size 432x288 with 2 Axes>"
      ]
     },
     "metadata": {
      "needs_background": "light"
     },
     "output_type": "display_data"
    }
   ],
   "source": [
    "sns.heatmap(data[['TransactionAmount', 'CustomerAge', 'TransactionDuration', 'AccountBalance']].corr(), annot=True, cmap='coolwarm')\n",
    "plt.title('Correlation Matrix')\n",
    "plt.show()"
   ]
  }
 ],
 "metadata": {
  "kernelspec": {
   "display_name": "Python 3 (ipykernel)",
   "language": "python",
   "name": "python3"
  },
  "language_info": {
   "codemirror_mode": {
    "name": "ipython",
    "version": 3
   },
   "file_extension": ".py",
   "mimetype": "text/x-python",
   "name": "python",
   "nbconvert_exporter": "python",
   "pygments_lexer": "ipython3",
   "version": "3.9.7"
  }
 },
 "nbformat": 4,
 "nbformat_minor": 5
}
