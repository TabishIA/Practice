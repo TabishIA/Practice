{
 "cells": [
  {
   "cell_type": "code",
   "execution_count": 1,
   "id": "fe820e0c",
   "metadata": {},
   "outputs": [
    {
     "data": {
      "text/plain": [
       "'\\nMarket Basket Analysis: Apriori Algorithm \\nDataset: Order2.csv \\nThis dataset comprises the list of transactions of a retail company over the period of one week. \\nIt contains a total of 7501 transaction records where each record consists of the list of items sold in one transaction. \\nUsing this record of transactions and items in each transaction, find the association rules between items. \\nThere is no header in the dataset and the first row contains the first transaction, \\nso mentioned header = None here while loading dataset. \\nFollow following steps: \\na. Data Pre-processing \\nb. Generate the list of transactions from the dataset \\nc. Train Apriori algorithm on the dataset \\nd. Visualize the list of rules \\n'"
      ]
     },
     "execution_count": 1,
     "metadata": {},
     "output_type": "execute_result"
    }
   ],
   "source": [
    "'''\n",
    "Market Basket Analysis: Apriori Algorithm \n",
    "Dataset: Order2.csv \n",
    "This dataset comprises the list of transactions of a retail company over the period of one week. \n",
    "It contains a total of 7501 transaction records where each record consists of the list of items sold in one transaction. \n",
    "Using this record of transactions and items in each transaction, find the association rules between items. \n",
    "There is no header in the dataset and the first row contains the first transaction, \n",
    "so mentioned header = None here while loading dataset. \n",
    "Follow following steps: \n",
    "a. Data Pre-processing \n",
    "b. Generate the list of transactions from the dataset \n",
    "c. Train Apriori algorithm on the dataset \n",
    "d. Visualize the list of rules \n",
    "'''"
   ]
  },
  {
   "cell_type": "code",
   "execution_count": 28,
   "id": "be50dbb0",
   "metadata": {},
   "outputs": [],
   "source": [
    "import pandas as pd\n",
    "import matplotlib.pyplot as plt\n",
    "from mlxtend.frequent_patterns import apriori, association_rules\n",
    "from mlxtend.preprocessing import TransactionEncoder"
   ]
  },
  {
   "cell_type": "code",
   "execution_count": 29,
   "id": "a4febc52",
   "metadata": {},
   "outputs": [
    {
     "data": {
      "text/html": [
       "<div>\n",
       "<style scoped>\n",
       "    .dataframe tbody tr th:only-of-type {\n",
       "        vertical-align: middle;\n",
       "    }\n",
       "\n",
       "    .dataframe tbody tr th {\n",
       "        vertical-align: top;\n",
       "    }\n",
       "\n",
       "    .dataframe thead th {\n",
       "        text-align: right;\n",
       "    }\n",
       "</style>\n",
       "<table border=\"1\" class=\"dataframe\">\n",
       "  <thead>\n",
       "    <tr style=\"text-align: right;\">\n",
       "      <th></th>\n",
       "      <th>0</th>\n",
       "      <th>1</th>\n",
       "      <th>2</th>\n",
       "      <th>3</th>\n",
       "      <th>4</th>\n",
       "      <th>5</th>\n",
       "      <th>6</th>\n",
       "      <th>7</th>\n",
       "      <th>8</th>\n",
       "      <th>9</th>\n",
       "      <th>10</th>\n",
       "      <th>11</th>\n",
       "      <th>12</th>\n",
       "      <th>13</th>\n",
       "      <th>14</th>\n",
       "      <th>15</th>\n",
       "      <th>16</th>\n",
       "      <th>17</th>\n",
       "      <th>18</th>\n",
       "      <th>19</th>\n",
       "    </tr>\n",
       "  </thead>\n",
       "  <tbody>\n",
       "    <tr>\n",
       "      <th>0</th>\n",
       "      <td>shrimp</td>\n",
       "      <td>almonds</td>\n",
       "      <td>avocado</td>\n",
       "      <td>vegetables mix</td>\n",
       "      <td>green grapes</td>\n",
       "      <td>whole weat flour</td>\n",
       "      <td>yams</td>\n",
       "      <td>cottage cheese</td>\n",
       "      <td>energy drink</td>\n",
       "      <td>tomato juice</td>\n",
       "      <td>low fat yogurt</td>\n",
       "      <td>green tea</td>\n",
       "      <td>honey</td>\n",
       "      <td>salad</td>\n",
       "      <td>mineral water</td>\n",
       "      <td>salmon</td>\n",
       "      <td>antioxydant juice</td>\n",
       "      <td>frozen smoothie</td>\n",
       "      <td>spinach</td>\n",
       "      <td>olive oil</td>\n",
       "    </tr>\n",
       "    <tr>\n",
       "      <th>1</th>\n",
       "      <td>burgers</td>\n",
       "      <td>meatballs</td>\n",
       "      <td>eggs</td>\n",
       "      <td>NaN</td>\n",
       "      <td>NaN</td>\n",
       "      <td>NaN</td>\n",
       "      <td>NaN</td>\n",
       "      <td>NaN</td>\n",
       "      <td>NaN</td>\n",
       "      <td>NaN</td>\n",
       "      <td>NaN</td>\n",
       "      <td>NaN</td>\n",
       "      <td>NaN</td>\n",
       "      <td>NaN</td>\n",
       "      <td>NaN</td>\n",
       "      <td>NaN</td>\n",
       "      <td>NaN</td>\n",
       "      <td>NaN</td>\n",
       "      <td>NaN</td>\n",
       "      <td>NaN</td>\n",
       "    </tr>\n",
       "    <tr>\n",
       "      <th>2</th>\n",
       "      <td>chutney</td>\n",
       "      <td>NaN</td>\n",
       "      <td>NaN</td>\n",
       "      <td>NaN</td>\n",
       "      <td>NaN</td>\n",
       "      <td>NaN</td>\n",
       "      <td>NaN</td>\n",
       "      <td>NaN</td>\n",
       "      <td>NaN</td>\n",
       "      <td>NaN</td>\n",
       "      <td>NaN</td>\n",
       "      <td>NaN</td>\n",
       "      <td>NaN</td>\n",
       "      <td>NaN</td>\n",
       "      <td>NaN</td>\n",
       "      <td>NaN</td>\n",
       "      <td>NaN</td>\n",
       "      <td>NaN</td>\n",
       "      <td>NaN</td>\n",
       "      <td>NaN</td>\n",
       "    </tr>\n",
       "    <tr>\n",
       "      <th>3</th>\n",
       "      <td>turkey</td>\n",
       "      <td>avocado</td>\n",
       "      <td>NaN</td>\n",
       "      <td>NaN</td>\n",
       "      <td>NaN</td>\n",
       "      <td>NaN</td>\n",
       "      <td>NaN</td>\n",
       "      <td>NaN</td>\n",
       "      <td>NaN</td>\n",
       "      <td>NaN</td>\n",
       "      <td>NaN</td>\n",
       "      <td>NaN</td>\n",
       "      <td>NaN</td>\n",
       "      <td>NaN</td>\n",
       "      <td>NaN</td>\n",
       "      <td>NaN</td>\n",
       "      <td>NaN</td>\n",
       "      <td>NaN</td>\n",
       "      <td>NaN</td>\n",
       "      <td>NaN</td>\n",
       "    </tr>\n",
       "    <tr>\n",
       "      <th>4</th>\n",
       "      <td>mineral water</td>\n",
       "      <td>milk</td>\n",
       "      <td>energy bar</td>\n",
       "      <td>whole wheat rice</td>\n",
       "      <td>green tea</td>\n",
       "      <td>NaN</td>\n",
       "      <td>NaN</td>\n",
       "      <td>NaN</td>\n",
       "      <td>NaN</td>\n",
       "      <td>NaN</td>\n",
       "      <td>NaN</td>\n",
       "      <td>NaN</td>\n",
       "      <td>NaN</td>\n",
       "      <td>NaN</td>\n",
       "      <td>NaN</td>\n",
       "      <td>NaN</td>\n",
       "      <td>NaN</td>\n",
       "      <td>NaN</td>\n",
       "      <td>NaN</td>\n",
       "      <td>NaN</td>\n",
       "    </tr>\n",
       "  </tbody>\n",
       "</table>\n",
       "</div>"
      ],
      "text/plain": [
       "              0          1           2                 3             4   \\\n",
       "0         shrimp    almonds     avocado    vegetables mix  green grapes   \n",
       "1        burgers  meatballs        eggs               NaN           NaN   \n",
       "2        chutney        NaN         NaN               NaN           NaN   \n",
       "3         turkey    avocado         NaN               NaN           NaN   \n",
       "4  mineral water       milk  energy bar  whole wheat rice     green tea   \n",
       "\n",
       "                 5     6               7             8             9   \\\n",
       "0  whole weat flour  yams  cottage cheese  energy drink  tomato juice   \n",
       "1               NaN   NaN             NaN           NaN           NaN   \n",
       "2               NaN   NaN             NaN           NaN           NaN   \n",
       "3               NaN   NaN             NaN           NaN           NaN   \n",
       "4               NaN   NaN             NaN           NaN           NaN   \n",
       "\n",
       "               10         11     12     13             14      15  \\\n",
       "0  low fat yogurt  green tea  honey  salad  mineral water  salmon   \n",
       "1             NaN        NaN    NaN    NaN            NaN     NaN   \n",
       "2             NaN        NaN    NaN    NaN            NaN     NaN   \n",
       "3             NaN        NaN    NaN    NaN            NaN     NaN   \n",
       "4             NaN        NaN    NaN    NaN            NaN     NaN   \n",
       "\n",
       "                  16               17       18         19  \n",
       "0  antioxydant juice  frozen smoothie  spinach  olive oil  \n",
       "1                NaN              NaN      NaN        NaN  \n",
       "2                NaN              NaN      NaN        NaN  \n",
       "3                NaN              NaN      NaN        NaN  \n",
       "4                NaN              NaN      NaN        NaN  "
      ]
     },
     "execution_count": 29,
     "metadata": {},
     "output_type": "execute_result"
    }
   ],
   "source": [
    "# load dataset with no headers\n",
    "data = pd.read_csv(r'LP-1_Dataset\\Apriori\\Order2.csv', header=None)\n",
    "\n",
    "data.head()"
   ]
  },
  {
   "cell_type": "code",
   "execution_count": 30,
   "id": "1aa7af11",
   "metadata": {},
   "outputs": [
    {
     "data": {
      "text/plain": [
       "0        0\n",
       "1     1754\n",
       "2     3112\n",
       "3     4156\n",
       "4     4972\n",
       "5     5637\n",
       "6     6132\n",
       "7     6520\n",
       "8     6847\n",
       "9     7106\n",
       "10    7245\n",
       "11    7347\n",
       "12    7414\n",
       "13    7454\n",
       "14    7476\n",
       "15    7493\n",
       "16    7497\n",
       "17    7497\n",
       "18    7498\n",
       "19    7500\n",
       "dtype: int64"
      ]
     },
     "execution_count": 30,
     "metadata": {},
     "output_type": "execute_result"
    }
   ],
   "source": [
    "data.isnull().sum()"
   ]
  },
  {
   "cell_type": "code",
   "execution_count": 31,
   "id": "22381dbf",
   "metadata": {},
   "outputs": [],
   "source": [
    "# convert data to a list of transactions\n",
    "transactions = []\n",
    "for i in range(len(data)):\n",
    "    transaction = data.iloc[i].dropna().tolist()\n",
    "    transactions.append(transaction)"
   ]
  },
  {
   "cell_type": "code",
   "execution_count": 32,
   "id": "12158cdc",
   "metadata": {},
   "outputs": [],
   "source": [
    "# convert list of transaction to one-hot encoded format\n",
    "te = TransactionEncoder()\n",
    "te_array = te.fit(transactions).transform(transactions)\n",
    "df_transactions = pd.DataFrame(te_array, columns=te.columns_)"
   ]
  },
  {
   "cell_type": "code",
   "execution_count": 33,
   "id": "8c3233c6",
   "metadata": {},
   "outputs": [],
   "source": [
    "frequent_itemsets = apriori(df_transactions, min_support=0.01, use_colnames=True)\n",
    "\n",
    "rules = association_rules(frequent_itemsets, metric='confidence', min_threshold=0.2)"
   ]
  },
  {
   "cell_type": "code",
   "execution_count": 34,
   "id": "12a16d6b",
   "metadata": {},
   "outputs": [
    {
     "name": "stdout",
     "output_type": "stream",
     "text": [
      "                    antecedents      consequents  antecedent support  \\\n",
      "0                     (avocado)  (mineral water)            0.033329   \n",
      "1                     (burgers)           (eggs)            0.087188   \n",
      "2                     (burgers)   (french fries)            0.087188   \n",
      "3                     (burgers)      (green tea)            0.087188   \n",
      "4                     (burgers)           (milk)            0.087188   \n",
      "..                          ...              ...                 ...   \n",
      "157           (spaghetti, milk)  (mineral water)            0.035462   \n",
      "158  (mineral water, olive oil)      (spaghetti)            0.027596   \n",
      "159      (olive oil, spaghetti)  (mineral water)            0.022930   \n",
      "160   (mineral water, pancakes)      (spaghetti)            0.033729   \n",
      "161       (pancakes, spaghetti)  (mineral water)            0.025197   \n",
      "\n",
      "     consequent support   support  confidence      lift  leverage  conviction  \\\n",
      "0              0.238368  0.011598    0.348000  1.459926  0.003654    1.168147   \n",
      "1              0.179709  0.028796    0.330275  1.837830  0.013128    1.224818   \n",
      "2              0.170911  0.021997    0.252294  1.476173  0.007096    1.108844   \n",
      "3              0.132116  0.017464    0.200306  1.516139  0.005945    1.085270   \n",
      "4              0.129583  0.017864    0.204893  1.581175  0.006566    1.094717   \n",
      "..                  ...       ...         ...       ...       ...         ...   \n",
      "157            0.238368  0.015731    0.443609  1.861024  0.007278    1.368879   \n",
      "158            0.174110  0.010265    0.371981  2.136468  0.005460    1.315071   \n",
      "159            0.238368  0.010265    0.447674  1.878079  0.004799    1.378954   \n",
      "160            0.174110  0.011465    0.339921  1.952333  0.005593    1.251198   \n",
      "161            0.238368  0.011465    0.455026  1.908923  0.005459    1.397557   \n",
      "\n",
      "     zhangs_metric  \n",
      "0         0.325896  \n",
      "1         0.499424  \n",
      "2         0.353384  \n",
      "3         0.372947  \n",
      "4         0.402667  \n",
      "..             ...  \n",
      "157       0.479672  \n",
      "158       0.547034  \n",
      "159       0.478514  \n",
      "160       0.504819  \n",
      "161       0.488452  \n",
      "\n",
      "[162 rows x 10 columns]\n"
     ]
    }
   ],
   "source": [
    "print(rules)"
   ]
  },
  {
   "cell_type": "code",
   "execution_count": 35,
   "id": "e74beafc",
   "metadata": {},
   "outputs": [
    {
     "data": {
      "image/png": "[encoded data removed]",
      "text/plain": [
       "<Figure size 432x288 with 1 Axes>"
      ]
     },
     "metadata": {
      "needs_background": "light"
     },
     "output_type": "display_data"
    }
   ],
   "source": [
    "frequent_itemsets.sort_values(by='support', ascending=False, inplace=True)\n",
    "plt.barh(frequent_itemsets['itemsets'].head(10).astype(str), frequent_itemsets['support'].head(10))\n",
    "plt.xlabel('Support')\n",
    "plt.ylabel('Itemsets')\n",
    "plt.title('Top 10 Frequent Itemsets')\n",
    "plt.show()"
   ]
  },
  {
   "cell_type": "code",
   "execution_count": 36,
   "id": "746dfe2d",
   "metadata": {},
   "outputs": [
    {
     "data": {
      "text/plain": [
       "([<matplotlib.axis.YTick at 0x288bc243700>,\n",
       "  <matplotlib.axis.YTick at 0x288bc062a00>,\n",
       "  <matplotlib.axis.YTick at 0x288bc25d640>,\n",
       "  <matplotlib.axis.YTick at 0x288bc231640>,\n",
       "  <matplotlib.axis.YTick at 0x288bc231d30>,\n",
       "  <matplotlib.axis.YTick at 0x288bc2317f0>,\n",
       "  <matplotlib.axis.YTick at 0x288bc251b20>,\n",
       "  <matplotlib.axis.YTick at 0x288bc06c340>,\n",
       "  <matplotlib.axis.YTick at 0x288bc06c9d0>,\n",
       "  <matplotlib.axis.YTick at 0x288bbc73250>],\n",
       " [Text(0, 0, 'ground beef, eggs -> mineral water'),\n",
       "  Text(0, 1, 'ground beef, milk -> mineral water'),\n",
       "  Text(0, 2, 'ground beef, chocolate -> mineral water'),\n",
       "  Text(0, 3, 'frozen vegetables, milk -> mineral water'),\n",
       "  Text(0, 4, 'soup -> mineral water'),\n",
       "  Text(0, 5, 'pancakes, spaghetti -> mineral water'),\n",
       "  Text(0, 6, 'olive oil, spaghetti -> mineral water'),\n",
       "  Text(0, 7, 'spaghetti, milk -> mineral water'),\n",
       "  Text(0, 8, 'chocolate, milk -> mineral water'),\n",
       "  Text(0, 9, 'spaghetti, ground beef -> mineral water')])"
      ]
     },
     "execution_count": 36,
     "metadata": {},
     "output_type": "execute_result"
    },
    {
     "data": {
      "image/png": "[encoded data removed]",
      "text/plain": [
       "<Figure size 864x432 with 1 Axes>"
      ]
     },
     "metadata": {
      "needs_background": "light"
     },
     "output_type": "display_data"
    }
   ],
   "source": [
    "# sort rules by confidence in descending order to get the top itemsets\n",
    "top_confidence_rules = rules.sort_values(by='confidence', ascending=False).head(10)\n",
    "\n",
    "plt.figure(figsize=(12, 6))\n",
    "plt.barh(range(len(top_confidence_rules)), top_confidence_rules['confidence'], color='skyblue')\n",
    "plt.yticks(range(len(top_confidence_rules)), [f\"{', '.join(list(a))} -> {', '.join(list(c))}\"\n",
    "                                             for a, c in zip(top_confidence_rules['antecedents'],\n",
    "                                                            top_confidence_rules['consequents'])])"
   ]
  },
  {
   "cell_type": "code",
   "execution_count": null,
   "id": "b3162d4d",
   "metadata": {},
   "outputs": [],
   "source": []
  }
 ],
 "metadata": {
  "kernelspec": {
   "display_name": "Python 3 (ipykernel)",
   "language": "python",
   "name": "python3"
  },
  "language_info": {
   "codemirror_mode": {
    "name": "ipython",
    "version": 3
   },
   "file_extension": ".py",
   "mimetype": "text/x-python",
   "name": "python",
   "nbconvert_exporter": "python",
   "pygments_lexer": "ipython3",
   "version": "3.9.7"
  }
 },
 "nbformat": 4,
 "nbformat_minor": 5
}
