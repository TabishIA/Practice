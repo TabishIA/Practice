{
 "cells": [
  {
   "cell_type": "code",
   "execution_count": 1,
   "id": "d5df61da",
   "metadata": {},
   "outputs": [
    {
     "data": {
      "text/plain": [
       "'\\nMarket Basket Analysis: Apriori Algorithm \\nDataset: Order3.csv \\nThe dataset has 20507 rows and 5 columns of the purchase orders of people from the bakery. \\nThese orders can be analysed, and association rules can be generated using Market Basket Analysis by algorithms \\nlike Apriori Algorithm. \\nFollow following steps: \\na. Data Pre-processing \\nb. Generate the list of transactions from the dataset \\nc. Train Apriori algorithm on the dataset \\nd. Visualize the list of rules\\n'"
      ]
     },
     "execution_count": 1,
     "metadata": {},
     "output_type": "execute_result"
    }
   ],
   "source": [
    "'''\n",
    "Market Basket Analysis: Apriori Algorithm \n",
    "Dataset: Order3.csv \n",
    "The dataset has 20507 rows and 5 columns of the purchase orders of people from the bakery. \n",
    "These orders can be analysed, and association rules can be generated using Market Basket Analysis by algorithms \n",
    "like Apriori Algorithm. \n",
    "Follow following steps: \n",
    "a. Data Pre-processing \n",
    "b. Generate the list of transactions from the dataset \n",
    "c. Train Apriori algorithm on the dataset \n",
    "d. Visualize the list of rules\n",
    "'''"
   ]
  },
  {
   "cell_type": "code",
   "execution_count": 16,
   "id": "aeda8e53",
   "metadata": {},
   "outputs": [],
   "source": [
    "import pandas as pd\n",
    "import matplotlib.pyplot as plt\n",
    "from mlxtend.frequent_patterns import apriori, association_rules\n",
    "from mlxtend.preprocessing import TransactionEncoder"
   ]
  },
  {
   "cell_type": "code",
   "execution_count": 17,
   "id": "ebd16411",
   "metadata": {},
   "outputs": [
    {
     "data": {
      "text/html": [
       "<div>\n",
       "<style scoped>\n",
       "    .dataframe tbody tr th:only-of-type {\n",
       "        vertical-align: middle;\n",
       "    }\n",
       "\n",
       "    .dataframe tbody tr th {\n",
       "        vertical-align: top;\n",
       "    }\n",
       "\n",
       "    .dataframe thead th {\n",
       "        text-align: right;\n",
       "    }\n",
       "</style>\n",
       "<table border=\"1\" class=\"dataframe\">\n",
       "  <thead>\n",
       "    <tr style=\"text-align: right;\">\n",
       "      <th></th>\n",
       "      <th>TransactionNo</th>\n",
       "      <th>Items</th>\n",
       "      <th>DateTime</th>\n",
       "      <th>Daypart</th>\n",
       "      <th>DayType</th>\n",
       "    </tr>\n",
       "  </thead>\n",
       "  <tbody>\n",
       "    <tr>\n",
       "      <th>0</th>\n",
       "      <td>1</td>\n",
       "      <td>Bread</td>\n",
       "      <td>10/30/2016 9:58</td>\n",
       "      <td>Morning</td>\n",
       "      <td>Weekend</td>\n",
       "    </tr>\n",
       "    <tr>\n",
       "      <th>1</th>\n",
       "      <td>2</td>\n",
       "      <td>Scandinavian</td>\n",
       "      <td>10/30/2016 10:05</td>\n",
       "      <td>Morning</td>\n",
       "      <td>Weekend</td>\n",
       "    </tr>\n",
       "    <tr>\n",
       "      <th>2</th>\n",
       "      <td>2</td>\n",
       "      <td>Scandinavian</td>\n",
       "      <td>10/30/2016 10:05</td>\n",
       "      <td>Morning</td>\n",
       "      <td>Weekend</td>\n",
       "    </tr>\n",
       "    <tr>\n",
       "      <th>3</th>\n",
       "      <td>3</td>\n",
       "      <td>Hot chocolate</td>\n",
       "      <td>10/30/2016 10:07</td>\n",
       "      <td>Morning</td>\n",
       "      <td>Weekend</td>\n",
       "    </tr>\n",
       "    <tr>\n",
       "      <th>4</th>\n",
       "      <td>3</td>\n",
       "      <td>Jam</td>\n",
       "      <td>10/30/2016 10:07</td>\n",
       "      <td>Morning</td>\n",
       "      <td>Weekend</td>\n",
       "    </tr>\n",
       "  </tbody>\n",
       "</table>\n",
       "</div>"
      ],
      "text/plain": [
       "   TransactionNo          Items          DateTime  Daypart  DayType\n",
       "0              1          Bread   10/30/2016 9:58  Morning  Weekend\n",
       "1              2   Scandinavian  10/30/2016 10:05  Morning  Weekend\n",
       "2              2   Scandinavian  10/30/2016 10:05  Morning  Weekend\n",
       "3              3  Hot chocolate  10/30/2016 10:07  Morning  Weekend\n",
       "4              3            Jam  10/30/2016 10:07  Morning  Weekend"
      ]
     },
     "execution_count": 17,
     "metadata": {},
     "output_type": "execute_result"
    }
   ],
   "source": [
    "data = pd.read_csv(r'LP-1_Dataset\\Apriori\\Order3.csv')\n",
    "\n",
    "data.head()"
   ]
  },
  {
   "cell_type": "code",
   "execution_count": 18,
   "id": "c85bb9d3",
   "metadata": {},
   "outputs": [
    {
     "data": {
      "text/plain": [
       "TransactionNo    0\n",
       "Items            0\n",
       "DateTime         0\n",
       "Daypart          0\n",
       "DayType          0\n",
       "dtype: int64"
      ]
     },
     "execution_count": 18,
     "metadata": {},
     "output_type": "execute_result"
    }
   ],
   "source": [
    "data.isnull().sum()"
   ]
  },
  {
   "cell_type": "code",
   "execution_count": 19,
   "id": "35680c01",
   "metadata": {},
   "outputs": [
    {
     "data": {
      "text/plain": [
       "Index(['TransactionNo', 'Items', 'DateTime', 'Daypart', 'DayType'], dtype='object')"
      ]
     },
     "execution_count": 19,
     "metadata": {},
     "output_type": "execute_result"
    }
   ],
   "source": [
    "data.columns"
   ]
  },
  {
   "cell_type": "code",
   "execution_count": 20,
   "id": "993f127d",
   "metadata": {},
   "outputs": [],
   "source": [
    "transactions = data.groupby('TransactionNo')['Items'].apply(list).values.tolist()"
   ]
  },
  {
   "cell_type": "code",
   "execution_count": 21,
   "id": "96bd2900",
   "metadata": {},
   "outputs": [
    {
     "name": "stdout",
     "output_type": "stream",
     "text": [
      "[['Bread'], ['Scandinavian', 'Scandinavian'], ['Hot chocolate', 'Jam', 'Cookies'], ['Muffin'], ['Coffee', 'Pastry', 'Bread']]\n"
     ]
    }
   ],
   "source": [
    "print(transactions[:5])"
   ]
  },
  {
   "cell_type": "code",
   "execution_count": 22,
   "id": "3e7afc3b",
   "metadata": {},
   "outputs": [],
   "source": [
    "te = TransactionEncoder()\n",
    "te_array = te.fit(transactions).transform(transactions)"
   ]
  },
  {
   "cell_type": "code",
   "execution_count": 23,
   "id": "ca792bda",
   "metadata": {},
   "outputs": [],
   "source": [
    "df = pd.DataFrame(te_array, columns=te.columns_)"
   ]
  },
  {
   "cell_type": "code",
   "execution_count": 24,
   "id": "042f55d5",
   "metadata": {},
   "outputs": [],
   "source": [
    "frequent_itemsets = apriori(df, min_support=0.01, use_colnames=True)\n",
    "\n",
    "rules = association_rules(frequent_itemsets, metric='confidence', min_threshold=0.2)"
   ]
  },
  {
   "cell_type": "code",
   "execution_count": 25,
   "id": "dbe327d8",
   "metadata": {},
   "outputs": [
    {
     "name": "stdout",
     "output_type": "stream",
     "text": [
      "     support                 itemsets\n",
      "0   0.036344              (Alfajores)\n",
      "1   0.016059               (Baguette)\n",
      "2   0.327205                  (Bread)\n",
      "3   0.040042                (Brownie)\n",
      "4   0.103856                   (Cake)\n",
      "..       ...                      ...\n",
      "56  0.023666          (Toast, Coffee)\n",
      "57  0.014369          (Tea, Sandwich)\n",
      "58  0.010037    (Coffee, Bread, Cake)\n",
      "59  0.011199  (Coffee, Bread, Pastry)\n",
      "60  0.010037      (Coffee, Tea, Cake)\n",
      "\n",
      "[61 rows x 2 columns]\n",
      "         antecedents consequents  antecedent support  consequent support  \\\n",
      "0        (Alfajores)     (Bread)            0.036344            0.327205   \n",
      "1        (Alfajores)    (Coffee)            0.036344            0.478394   \n",
      "2          (Brownie)     (Bread)            0.040042            0.327205   \n",
      "3             (Cake)     (Bread)            0.103856            0.327205   \n",
      "4            (Bread)    (Coffee)            0.327205            0.478394   \n",
      "5          (Cookies)     (Bread)            0.054411            0.327205   \n",
      "6    (Hot chocolate)     (Bread)            0.058320            0.327205   \n",
      "7        (Medialuna)     (Bread)            0.061807            0.327205   \n",
      "8           (Pastry)     (Bread)            0.086107            0.327205   \n",
      "9         (Sandwich)     (Bread)            0.071844            0.327205   \n",
      "10         (Brownie)    (Coffee)            0.040042            0.478394   \n",
      "11            (Cake)    (Coffee)            0.103856            0.478394   \n",
      "12            (Cake)       (Tea)            0.103856            0.142631   \n",
      "13         (Cookies)    (Coffee)            0.054411            0.478394   \n",
      "14   (Hot chocolate)    (Coffee)            0.058320            0.478394   \n",
      "15           (Juice)    (Coffee)            0.038563            0.478394   \n",
      "16       (Medialuna)    (Coffee)            0.061807            0.478394   \n",
      "17          (Muffin)    (Coffee)            0.038457            0.478394   \n",
      "18          (Pastry)    (Coffee)            0.086107            0.478394   \n",
      "19        (Sandwich)    (Coffee)            0.071844            0.478394   \n",
      "20           (Scone)    (Coffee)            0.034548            0.478394   \n",
      "21            (Soup)    (Coffee)            0.034443            0.478394   \n",
      "22  (Spanish Brunch)    (Coffee)            0.018172            0.478394   \n",
      "23             (Tea)    (Coffee)            0.142631            0.478394   \n",
      "24           (Toast)    (Coffee)            0.033597            0.478394   \n",
      "25        (Sandwich)       (Tea)            0.071844            0.142631   \n",
      "26     (Cake, Bread)    (Coffee)            0.023349            0.478394   \n",
      "27  (Coffee, Pastry)     (Bread)            0.047544            0.327205   \n",
      "28   (Bread, Pastry)    (Coffee)            0.029160            0.478394   \n",
      "29     (Coffee, Tea)      (Cake)            0.049868            0.103856   \n",
      "30       (Cake, Tea)    (Coffee)            0.023772            0.478394   \n",
      "\n",
      "     support  confidence      lift  leverage  conviction  zhangs_metric  \n",
      "0   0.010354    0.284884  0.870657 -0.001538    0.940818      -0.133570  \n",
      "1   0.019651    0.540698  1.130235  0.002264    1.135648       0.119574  \n",
      "2   0.010777    0.269129  0.822508 -0.002326    0.920538      -0.183536  \n",
      "3   0.023349    0.224822  0.687097 -0.010633    0.867923      -0.336947  \n",
      "4   0.090016    0.275105  0.575059 -0.066517    0.719561      -0.523431  \n",
      "5   0.014474    0.266019  0.813004 -0.003329    0.916638      -0.195651  \n",
      "6   0.013418    0.230072  0.703144 -0.005665    0.873841      -0.309550  \n",
      "7   0.016904    0.273504  0.835879 -0.003319    0.926082      -0.173062  \n",
      "8   0.029160    0.338650  1.034977  0.000985    1.017305       0.036980  \n",
      "9   0.017010    0.236765  0.723596 -0.006498    0.881503      -0.291561  \n",
      "10  0.019651    0.490765  1.025860  0.000495    1.024293       0.026259  \n",
      "11  0.054728    0.526958  1.101515  0.005044    1.102664       0.102840  \n",
      "12  0.023772    0.228891  1.604781  0.008959    1.111865       0.420538  \n",
      "13  0.028209    0.518447  1.083723  0.002179    1.083174       0.081700  \n",
      "14  0.029583    0.507246  1.060311  0.001683    1.058553       0.060403  \n",
      "15  0.020602    0.534247  1.116750  0.002154    1.119919       0.108738  \n",
      "16  0.035182    0.569231  1.189878  0.005614    1.210871       0.170091  \n",
      "17  0.018806    0.489011  1.022193  0.000408    1.020777       0.022579  \n",
      "18  0.047544    0.552147  1.154168  0.006351    1.164682       0.146161  \n",
      "19  0.038246    0.532353  1.112792  0.003877    1.115384       0.109205  \n",
      "20  0.018067    0.522936  1.093107  0.001539    1.093366       0.088224  \n",
      "21  0.015848    0.460123  0.961807 -0.000629    0.966156      -0.039502  \n",
      "22  0.010882    0.598837  1.251766  0.002189    1.300235       0.204851  \n",
      "23  0.049868    0.349630  0.730840 -0.018366    0.802014      -0.300482  \n",
      "24  0.023666    0.704403  1.472431  0.007593    1.764582       0.332006  \n",
      "25  0.014369    0.200000  1.402222  0.004122    1.071712       0.309050  \n",
      "26  0.010037    0.429864  0.898557 -0.001133    0.914880      -0.103617  \n",
      "27  0.011199    0.235556  0.719901 -0.004357    0.880109      -0.290026  \n",
      "28  0.011199    0.384058  0.802807 -0.002751    0.846843      -0.201920  \n",
      "29  0.010037    0.201271  1.937977  0.004858    1.121962       0.509401  \n",
      "30  0.010037    0.422222  0.882582 -0.001335    0.902779      -0.119934  \n"
     ]
    }
   ],
   "source": [
    "print(frequent_itemsets)\n",
    "print(rules)"
   ]
  },
  {
   "cell_type": "code",
   "execution_count": 26,
   "id": "bee31788",
   "metadata": {},
   "outputs": [
    {
     "data": {
      "image/png": "[encoded data removed]",
      "text/plain": [
       "<Figure size 432x288 with 1 Axes>"
      ]
     },
     "metadata": {
      "needs_background": "light"
     },
     "output_type": "display_data"
    }
   ],
   "source": [
    "frequent_itemsets.sort_values(by='support', ascending=False, inplace=True)\n",
    "plt.barh(frequent_itemsets['itemsets'].head(10).astype(str), frequent_itemsets['support'].head(10))\n",
    "plt.xlabel('Support')\n",
    "plt.ylabel('Itemsets')\n",
    "plt.title('Top 10 Frequent Itemsets')\n",
    "plt.show()"
   ]
  },
  {
   "cell_type": "code",
   "execution_count": 30,
   "id": "86461c70",
   "metadata": {},
   "outputs": [
    {
     "data": {
      "text/plain": [
       "([<matplotlib.axis.YTick at 0x21fd3a81370>,\n",
       "  <matplotlib.axis.YTick at 0x21fd3a7ab80>,\n",
       "  <matplotlib.axis.YTick at 0x21fd3a71af0>,\n",
       "  <matplotlib.axis.YTick at 0x21fd3ac14c0>,\n",
       "  <matplotlib.axis.YTick at 0x21fd3ac1b80>,\n",
       "  <matplotlib.axis.YTick at 0x21fd3ac3070>,\n",
       "  <matplotlib.axis.YTick at 0x21fd3ac3700>,\n",
       "  <matplotlib.axis.YTick at 0x21fd3ac3e50>,\n",
       "  <matplotlib.axis.YTick at 0x21fd3acf5e0>,\n",
       "  <matplotlib.axis.YTick at 0x21fd3acfd30>],\n",
       " [Text(0, 0, 'Toast -> Coffee'),\n",
       "  Text(0, 1, 'Spanish Brunch -> Coffee'),\n",
       "  Text(0, 2, 'Medialuna -> Coffee'),\n",
       "  Text(0, 3, 'Pastry -> Coffee'),\n",
       "  Text(0, 4, 'Alfajores -> Coffee'),\n",
       "  Text(0, 5, 'Juice -> Coffee'),\n",
       "  Text(0, 6, 'Sandwich -> Coffee'),\n",
       "  Text(0, 7, 'Cake -> Coffee'),\n",
       "  Text(0, 8, 'Scone -> Coffee'),\n",
       "  Text(0, 9, 'Cookies -> Coffee')])"
      ]
     },
     "execution_count": 30,
     "metadata": {},
     "output_type": "execute_result"
    },
    {
     "data": {
      "image/png": "[encoded data removed]",
      "text/plain": [
       "<Figure size 864x432 with 1 Axes>"
      ]
     },
     "metadata": {
      "needs_background": "light"
     },
     "output_type": "display_data"
    }
   ],
   "source": [
    "top_confidence_rules = rules.sort_values(by='confidence', ascending=False).head(10)\n",
    "\n",
    "plt.figure(figsize=(12, 6))\n",
    "plt.barh(range(len(top_confidence_rules)), top_confidence_rules['confidence'], color='skyblue')\n",
    "plt.yticks(range(len(top_confidence_rules)), [f\"{', '.join(list(a))} -> {', '.join(list(c))}\"\n",
    "                                             for a, c in zip(top_confidence_rules['antecedents'],\n",
    "                                                            top_confidence_rules['consequents'])])"
   ]
  },
  {
   "cell_type": "code",
   "execution_count": 34,
   "id": "7e4e1e11",
   "metadata": {},
   "outputs": [
    {
     "name": "stdout",
     "output_type": "stream",
     "text": [
      "         antecedents consequents  antecedent support  consequent support  \\\n",
      "1        (Alfajores)    (Coffee)            0.036344            0.478394   \n",
      "11            (Cake)    (Coffee)            0.103856            0.478394   \n",
      "13         (Cookies)    (Coffee)            0.054411            0.478394   \n",
      "14   (Hot chocolate)    (Coffee)            0.058320            0.478394   \n",
      "15           (Juice)    (Coffee)            0.038563            0.478394   \n",
      "16       (Medialuna)    (Coffee)            0.061807            0.478394   \n",
      "18          (Pastry)    (Coffee)            0.086107            0.478394   \n",
      "19        (Sandwich)    (Coffee)            0.071844            0.478394   \n",
      "20           (Scone)    (Coffee)            0.034548            0.478394   \n",
      "22  (Spanish Brunch)    (Coffee)            0.018172            0.478394   \n",
      "24           (Toast)    (Coffee)            0.033597            0.478394   \n",
      "\n",
      "     support  confidence      lift  leverage  conviction  zhangs_metric  \n",
      "1   0.019651    0.540698  1.130235  0.002264    1.135648       0.119574  \n",
      "11  0.054728    0.526958  1.101515  0.005044    1.102664       0.102840  \n",
      "13  0.028209    0.518447  1.083723  0.002179    1.083174       0.081700  \n",
      "14  0.029583    0.507246  1.060311  0.001683    1.058553       0.060403  \n",
      "15  0.020602    0.534247  1.116750  0.002154    1.119919       0.108738  \n",
      "16  0.035182    0.569231  1.189878  0.005614    1.210871       0.170091  \n",
      "18  0.047544    0.552147  1.154168  0.006351    1.164682       0.146161  \n",
      "19  0.038246    0.532353  1.112792  0.003877    1.115384       0.109205  \n",
      "20  0.018067    0.522936  1.093107  0.001539    1.093366       0.088224  \n",
      "22  0.010882    0.598837  1.251766  0.002189    1.300235       0.204851  \n",
      "24  0.023666    0.704403  1.472431  0.007593    1.764582       0.332006  \n"
     ]
    }
   ],
   "source": [
    "# Filter rules with high lift and confidence\n",
    "strong_rules = rules[(rules['lift'] > 1) & (rules['confidence'] > 0.5)]\n",
    "print(strong_rules)"
   ]
  },
  {
   "cell_type": "code",
   "execution_count": null,
   "id": "1eac20d8",
   "metadata": {},
   "outputs": [],
   "source": []
  }
 ],
 "metadata": {
  "kernelspec": {
   "display_name": "Python 3 (ipykernel)",
   "language": "python",
   "name": "python3"
  },
  "language_info": {
   "codemirror_mode": {
    "name": "ipython",
    "version": 3
   },
   "file_extension": ".py",
   "mimetype": "text/x-python",
   "name": "python",
   "nbconvert_exporter": "python",
   "pygments_lexer": "ipython3",
   "version": "3.9.7"
  }
 },
 "nbformat": 4,
 "nbformat_minor": 5
}
